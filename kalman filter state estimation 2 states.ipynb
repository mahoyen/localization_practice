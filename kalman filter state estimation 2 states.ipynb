{
 "cells": [
  {
   "cell_type": "code",
   "execution_count": null,
   "metadata": {},
   "outputs": [],
   "source": [
    "import numpy as np\n",
    "import matplotlib.pyplot as plt"
   ]
  },
  {
   "cell_type": "code",
   "execution_count": null,
   "metadata": {},
   "outputs": [],
   "source": [
    "n_states = 2"
   ]
  },
  {
   "cell_type": "code",
   "execution_count": null,
   "metadata": {},
   "outputs": [],
   "source": [
    "x_start = np.zeros((n_states,1))\n",
    "prior = 1000*np.identity(n_states)\n",
    "u = [[0],[1]]\n",
    "F = [[1,1], [0,1]]\n",
    "H = np.reshape([1,0], (1,2))\n",
    "H_T = np.reshape(H, (n_states,1))\n",
    "R = [[1]]#, 0], [0,0]]\n",
    "I = np.identity(n_states)"
   ]
  },
  {
   "cell_type": "code",
   "execution_count": null,
   "metadata": {},
   "outputs": [],
   "source": [
    "measurements = [0,1,3,6,10,15,21]"
   ]
  },
  {
   "cell_type": "code",
   "execution_count": null,
   "metadata": {},
   "outputs": [],
   "source": [
    "def state_est_after_measuremnt(x, prior, measurement):\n",
    "    y = measurement - np.matmul(H,x)\n",
    "    S = np.matmul(np.matmul(H,prior),H_T)+R\n",
    "    Kalman_gain = np.matmul(np.matmul(prior,H_T),np.linalg.inv(S))\n",
    "    \n",
    "    x_new = x + Kalman_gain*y\n",
    "    posterior = np.matmul((I-np.matmul(Kalman_gain,H)),prior)\n",
    "    return x_new, posterior\n",
    "    "
   ]
  },
  {
   "cell_type": "code",
   "execution_count": null,
   "metadata": {},
   "outputs": [],
   "source": [
    "def prediction(x, p, u):\n",
    "    x_new = np.matmul(F,x)+u\n",
    "    p_new = np.matmul(np.matmul(F,p),np.transpose(F))\n",
    "    return x_new, p_new\n",
    "    \n",
    "    "
   ]
  },
  {
   "cell_type": "code",
   "execution_count": null,
   "metadata": {},
   "outputs": [],
   "source": [
    "def filter(x,p, measurements):\n",
    "    for measurement in measurements:\n",
    "        print(measurement)\n",
    "        x, p = state_est_after_measuremnt(x, p, measurement)\n",
    "        print(\"after measurement\")\n",
    "        print(x)\n",
    "        print(p)\n",
    "        print()\n",
    "        x, p = prediction(x, p, u)\n",
    "        print(\"after prediction\")\n",
    "        print(x)\n",
    "        print(p)\n",
    "        print()\n",
    "        print()\n",
    "        \n",
    "       \n",
    "    \n",
    "    "
   ]
  },
  {
   "cell_type": "code",
   "execution_count": null,
   "metadata": {},
   "outputs": [],
   "source": [
    "filter(x_start,prior, measurements)"
   ]
  },
  {
   "cell_type": "code",
   "execution_count": null,
   "metadata": {},
   "outputs": [],
   "source": []
  },
  {
   "cell_type": "code",
   "execution_count": null,
   "metadata": {},
   "outputs": [],
   "source": []
  },
  {
   "cell_type": "code",
   "execution_count": null,
   "metadata": {},
   "outputs": [],
   "source": []
  },
  {
   "cell_type": "code",
   "execution_count": null,
   "metadata": {},
   "outputs": [],
   "source": []
  },
  {
   "cell_type": "code",
   "execution_count": null,
   "metadata": {},
   "outputs": [],
   "source": []
  },
  {
   "cell_type": "code",
   "execution_count": null,
   "metadata": {},
   "outputs": [],
   "source": []
  },
  {
   "cell_type": "code",
   "execution_count": null,
   "metadata": {},
   "outputs": [],
   "source": []
  },
  {
   "cell_type": "code",
   "execution_count": null,
   "metadata": {},
   "outputs": [],
   "source": []
  },
  {
   "cell_type": "code",
   "execution_count": null,
   "metadata": {},
   "outputs": [],
   "source": []
  },
  {
   "cell_type": "code",
   "execution_count": null,
   "metadata": {},
   "outputs": [],
   "source": []
  },
  {
   "cell_type": "code",
   "execution_count": null,
   "metadata": {},
   "outputs": [],
   "source": []
  },
  {
   "cell_type": "code",
   "execution_count": null,
   "metadata": {},
   "outputs": [],
   "source": []
  }
 ],
 "metadata": {
  "kernelspec": {
   "display_name": "Python 3",
   "language": "python",
   "name": "python3"
  },
  "language_info": {
   "codemirror_mode": {
    "name": "ipython",
    "version": 3
   },
   "file_extension": ".py",
   "mimetype": "text/x-python",
   "name": "python",
   "nbconvert_exporter": "python",
   "pygments_lexer": "ipython3",
   "version": "3.6.5"
  }
 },
 "nbformat": 4,
 "nbformat_minor": 2
}
