{
 "cells": [
  {
   "cell_type": "code",
   "execution_count": null,
   "metadata": {},
   "outputs": [],
   "source": [
    "import numpy as np\n",
    "import matplotlib.pyplot as plt"
   ]
  },
  {
   "cell_type": "code",
   "execution_count": null,
   "metadata": {},
   "outputs": [],
   "source": [
    "WORLD_SIZE = {'x': 100, 'y': 100}\n",
    "N_PARTICLES = 100"
   ]
  },
  {
   "cell_type": "code",
   "execution_count": null,
   "metadata": {},
   "outputs": [],
   "source": [
    "class Robot:\n",
    "    \n",
    "    def __init__(self, world_size_x, world_size_y, x = None, y = None, theta = None,):\n",
    "        if x is None:\n",
    "            x = np.random.randint(0, world_size_x)\n",
    "        if y is None:\n",
    "            y = np.random.randint(0, world_size_x)\n",
    "        if theta is None:\n",
    "            theta = np.random.randint(0, 360)\n",
    "        self.world_size_x = world_size_x\n",
    "        self.world_size_y = world_size_y\n",
    "        self.x = float(x)\n",
    "        self.y = float(y)\n",
    "        self.theta = float(theta % 360)\n",
    "    \n",
    "    def move(self, rotation, translation):\n",
    "        self.theta = (theta + rotation) % 360\n",
    "        self.x += translation * np.cos(np.deg2rad(self.theta))\n",
    "        self.y += translation * np.sin(np.deg2rad(self.theta))\n",
    "        self.x = max(min(self.world_size_x, self.x), 0)\n",
    "        self.y = max(min(self.world_size_y, self.y), 0)\n",
    "        \n",
    "    def display_values(self):\n",
    "        print(f\"[x = {self.x:07.3f}, \\t y = {self.y:07.3f}, \\t theta = {self.theta:07.3f}]\")\n",
    "    \n",
    "    def return_state(self):\n",
    "        return [self.x,self.y,self.theta]\n",
    "        \n",
    "        "
   ]
  },
  {
   "cell_type": "code",
   "execution_count": null,
   "metadata": {},
   "outputs": [],
   "source": [
    "Robot(WORLD_SIZE['x'], WORLD_SIZE['y']).display_values()"
   ]
  },
  {
   "cell_type": "code",
   "execution_count": null,
   "metadata": {},
   "outputs": [],
   "source": [
    "def generate_list_of_robots(n_robots, world_x, world_y, print_list):\n",
    "    list_of_particle_robots = []\n",
    "\n",
    "    for i_robot in range(n_robots):\n",
    "        list_of_particle_robots.append(Robot(world_x, world_y))\n",
    "        if print_list:\n",
    "            list_of_particle_robots[i_robot].display_values()\n",
    "    return list_of_particle_robots"
   ]
  },
  {
   "cell_type": "code",
   "execution_count": null,
   "metadata": {},
   "outputs": [],
   "source": [
    "def display_scatterplot(list_of_robots):\n",
    "    list_of_particle_states = []\n",
    "    for robot in list_of_robots:\n",
    "        list_of_particle_states.append(robot.return_state())\n",
    "    list_of_particle_states_transp = np.transpose(list_of_particle_states)\n",
    "    plt.figure()\n",
    "    plt.scatter(list_of_particle_states_transp[0], list_of_particle_states_transp[1], c = list_of_particle_states_transp[2])"
   ]
  },
  {
   "cell_type": "code",
   "execution_count": null,
   "metadata": {},
   "outputs": [],
   "source": [
    "list_of_robots = generate_list_of_robots(N_PARTICLES, WORLD_SIZE['x'], WORLD_SIZE['y'], True)"
   ]
  },
  {
   "cell_type": "code",
   "execution_count": null,
   "metadata": {},
   "outputs": [],
   "source": [
    "display_scatterplot(list_of_robots)"
   ]
  },
  {
   "cell_type": "code",
   "execution_count": null,
   "metadata": {},
   "outputs": [],
   "source": []
  },
  {
   "cell_type": "code",
   "execution_count": null,
   "metadata": {},
   "outputs": [],
   "source": []
  },
  {
   "cell_type": "code",
   "execution_count": null,
   "metadata": {},
   "outputs": [],
   "source": []
  },
  {
   "cell_type": "code",
   "execution_count": null,
   "metadata": {},
   "outputs": [],
   "source": []
  },
  {
   "cell_type": "code",
   "execution_count": null,
   "metadata": {},
   "outputs": [],
   "source": []
  },
  {
   "cell_type": "code",
   "execution_count": null,
   "metadata": {},
   "outputs": [],
   "source": []
  }
 ],
 "metadata": {
  "kernelspec": {
   "display_name": "Python 3",
   "language": "python",
   "name": "python3"
  },
  "language_info": {
   "codemirror_mode": {
    "name": "ipython",
    "version": 3
   },
   "file_extension": ".py",
   "mimetype": "text/x-python",
   "name": "python",
   "nbconvert_exporter": "python",
   "pygments_lexer": "ipython3",
   "version": "3.6.5"
  }
 },
 "nbformat": 4,
 "nbformat_minor": 2
}
