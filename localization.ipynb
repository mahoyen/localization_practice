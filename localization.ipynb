{
 "cells": [
  {
   "cell_type": "code",
   "execution_count": null,
   "metadata": {},
   "outputs": [],
   "source": [
    "world = [['red','green','green','red','red'],\n",
    "        ['red','red','green','red','red'],\n",
    "        ['red','red','green','green','red'],\n",
    "        ['red','red','red','red','red'],\n",
    "        ['red','green','green','red','red']]"
   ]
  },
  {
   "cell_type": "code",
   "execution_count": null,
   "metadata": {},
   "outputs": [],
   "source": [
    "import numpy as np\n",
    "import matplotlib.pyplot as plt\n"
   ]
  },
  {
   "cell_type": "code",
   "execution_count": null,
   "metadata": {},
   "outputs": [],
   "source": [
    "measurements = ['green','green','green','green','green', 'red']\n",
    "motions = [[0,0], [0,1], [1,0],[1,0],[0,1], [0,1]]"
   ]
  },
  {
   "cell_type": "code",
   "execution_count": null,
   "metadata": {},
   "outputs": [],
   "source": [
    "sensor_right = 0.63\n",
    "p_move = 0.74"
   ]
  },
  {
   "cell_type": "code",
   "execution_count": null,
   "metadata": {},
   "outputs": [],
   "source": [
    "x, y = np.shape(world)\n",
    "estimate = np.full(np.shape(world), 1/(x*y))\n",
    "estimate"
   ]
  },
  {
   "cell_type": "code",
   "execution_count": null,
   "metadata": {},
   "outputs": [],
   "source": [
    "def estimate_after_motion(estimate, motion, p_move):\n",
    "    non_move_estimate = np.multiply(estimate, 1-p_move)\n",
    "    for motion_dim in range(len(motion)):\n",
    "        estimate = np.roll(estimate, motion[motion_dim], axis=motion_dim)\n",
    "    move_estimate = np.multiply(estimate, p_move)\n",
    "    return np.add(move_estimate, non_move_estimate)"
   ]
  },
  {
   "cell_type": "code",
   "execution_count": null,
   "metadata": {},
   "outputs": [],
   "source": [
    "def estimate_after_measurement(world, estimate, measurement, sensor_reliability):\n",
    "    n_rows, n_cols = np.shape(world)\n",
    "    non_normalized_estimate = estimate\n",
    "    for i_row in range(n_rows):\n",
    "        for i_col in range(n_cols):\n",
    "            hit = (world[i_row][i_col]==measurement)\n",
    "            non_normalized_estimate[i_row][i_col] = estimate[i_row][i_col]*(sensor_reliability*hit+(1-sensor_reliability)*(1-hit))\n",
    "            \n",
    "    return np.divide(non_normalized_estimate, np.sum(non_normalized_estimate))\n",
    "\n",
    "            \n",
    "            "
   ]
  },
  {
   "cell_type": "code",
   "execution_count": null,
   "metadata": {},
   "outputs": [],
   "source": [
    "curr_estimate = estimate\n",
    "for time_step in range(len(measurements)) :\n",
    "    new_estimate_after_motion = estimate_after_motion(curr_estimate, motions[time_step], p_move)\n",
    "    curr_estimate = estimate_after_measurement(world, new_estimate_after_motion, measurements[time_step], sensor_right)\n",
    "    print(curr_estimate)\n",
    "    plt.figure(time_step)\n",
    "    plt.pcolormesh(curr_estimate)\n",
    "    plt.colorbar()\n",
    "    "
   ]
  },
  {
   "cell_type": "code",
   "execution_count": null,
   "metadata": {},
   "outputs": [],
   "source": [
    "curr_estimate = estimate\n",
    "for time_step in range(len(measurements)) :\n",
    "    new_estimate_after_motion = estimate_after_motion(curr_estimate, motions[time_step], p_move)\n",
    "    curr_estimate = estimate_after_measurement(world, new_estimate_after_motion, measurements[time_step], sensor_right)\n",
    "    plt.figure(time_step)\n",
    "    plt.pcolormesh(curr_estimate)\n",
    "    plt.colorbar()\n",
    "curr_estimate\n",
    "    "
   ]
  },
  {
   "cell_type": "code",
   "execution_count": null,
   "metadata": {},
   "outputs": [],
   "source": [
    "\n",
    "\n",
    "    "
   ]
  },
  {
   "cell_type": "code",
   "execution_count": null,
   "metadata": {},
   "outputs": [],
   "source": []
  },
  {
   "cell_type": "code",
   "execution_count": null,
   "metadata": {},
   "outputs": [],
   "source": []
  },
  {
   "cell_type": "code",
   "execution_count": null,
   "metadata": {},
   "outputs": [],
   "source": []
  }
 ],
 "metadata": {
  "kernelspec": {
   "display_name": "Python 3",
   "language": "python",
   "name": "python3"
  },
  "language_info": {
   "codemirror_mode": {
    "name": "ipython",
    "version": 3
   },
   "file_extension": ".py",
   "mimetype": "text/x-python",
   "name": "python",
   "nbconvert_exporter": "python",
   "pygments_lexer": "ipython3",
   "version": "3.6.5"
  }
 },
 "nbformat": 4,
 "nbformat_minor": 2
}
